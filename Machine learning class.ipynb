{
 "cells": [
  {
   "cell_type": "code",
   "execution_count": 14,
   "metadata": {},
   "outputs": [
    {
     "data": {
      "text/html": [
       "<div>\n",
       "<style scoped>\n",
       "    .dataframe tbody tr th:only-of-type {\n",
       "        vertical-align: middle;\n",
       "    }\n",
       "\n",
       "    .dataframe tbody tr th {\n",
       "        vertical-align: top;\n",
       "    }\n",
       "\n",
       "    .dataframe thead th {\n",
       "        text-align: right;\n",
       "    }\n",
       "</style>\n",
       "<table border=\"1\" class=\"dataframe\">\n",
       "  <thead>\n",
       "    <tr style=\"text-align: right;\">\n",
       "      <th></th>\n",
       "      <th>Month</th>\n",
       "      <th>Advertising Expenditure (X)</th>\n",
       "      <th>Sales (Y)</th>\n",
       "    </tr>\n",
       "  </thead>\n",
       "  <tbody>\n",
       "    <tr>\n",
       "      <th>0</th>\n",
       "      <td>1</td>\n",
       "      <td>49</td>\n",
       "      <td>14</td>\n",
       "    </tr>\n",
       "    <tr>\n",
       "      <th>1</th>\n",
       "      <td>2</td>\n",
       "      <td>40</td>\n",
       "      <td>9</td>\n",
       "    </tr>\n",
       "    <tr>\n",
       "      <th>2</th>\n",
       "      <td>3</td>\n",
       "      <td>50</td>\n",
       "      <td>15</td>\n",
       "    </tr>\n",
       "    <tr>\n",
       "      <th>3</th>\n",
       "      <td>4</td>\n",
       "      <td>46</td>\n",
       "      <td>13</td>\n",
       "    </tr>\n",
       "    <tr>\n",
       "      <th>4</th>\n",
       "      <td>5</td>\n",
       "      <td>44</td>\n",
       "      <td>12</td>\n",
       "    </tr>\n",
       "    <tr>\n",
       "      <th>5</th>\n",
       "      <td>6</td>\n",
       "      <td>52</td>\n",
       "      <td>15</td>\n",
       "    </tr>\n",
       "    <tr>\n",
       "      <th>6</th>\n",
       "      <td>7</td>\n",
       "      <td>54</td>\n",
       "      <td>15</td>\n",
       "    </tr>\n",
       "    <tr>\n",
       "      <th>7</th>\n",
       "      <td>8</td>\n",
       "      <td>58</td>\n",
       "      <td>16</td>\n",
       "    </tr>\n",
       "    <tr>\n",
       "      <th>8</th>\n",
       "      <td>9</td>\n",
       "      <td>56</td>\n",
       "      <td>15</td>\n",
       "    </tr>\n",
       "    <tr>\n",
       "      <th>9</th>\n",
       "      <td>10</td>\n",
       "      <td>60</td>\n",
       "      <td>18</td>\n",
       "    </tr>\n",
       "    <tr>\n",
       "      <th>10</th>\n",
       "      <td>11</td>\n",
       "      <td>49</td>\n",
       "      <td>14</td>\n",
       "    </tr>\n",
       "    <tr>\n",
       "      <th>11</th>\n",
       "      <td>12</td>\n",
       "      <td>40</td>\n",
       "      <td>9</td>\n",
       "    </tr>\n",
       "    <tr>\n",
       "      <th>12</th>\n",
       "      <td>13</td>\n",
       "      <td>50</td>\n",
       "      <td>15</td>\n",
       "    </tr>\n",
       "    <tr>\n",
       "      <th>13</th>\n",
       "      <td>14</td>\n",
       "      <td>46</td>\n",
       "      <td>13</td>\n",
       "    </tr>\n",
       "    <tr>\n",
       "      <th>14</th>\n",
       "      <td>15</td>\n",
       "      <td>44</td>\n",
       "      <td>12</td>\n",
       "    </tr>\n",
       "    <tr>\n",
       "      <th>15</th>\n",
       "      <td>16</td>\n",
       "      <td>52</td>\n",
       "      <td>15</td>\n",
       "    </tr>\n",
       "    <tr>\n",
       "      <th>16</th>\n",
       "      <td>17</td>\n",
       "      <td>54</td>\n",
       "      <td>15</td>\n",
       "    </tr>\n",
       "    <tr>\n",
       "      <th>17</th>\n",
       "      <td>18</td>\n",
       "      <td>58</td>\n",
       "      <td>16</td>\n",
       "    </tr>\n",
       "    <tr>\n",
       "      <th>18</th>\n",
       "      <td>19</td>\n",
       "      <td>56</td>\n",
       "      <td>15</td>\n",
       "    </tr>\n",
       "    <tr>\n",
       "      <th>19</th>\n",
       "      <td>20</td>\n",
       "      <td>60</td>\n",
       "      <td>18</td>\n",
       "    </tr>\n",
       "    <tr>\n",
       "      <th>20</th>\n",
       "      <td>21</td>\n",
       "      <td>49</td>\n",
       "      <td>14</td>\n",
       "    </tr>\n",
       "    <tr>\n",
       "      <th>21</th>\n",
       "      <td>22</td>\n",
       "      <td>40</td>\n",
       "      <td>9</td>\n",
       "    </tr>\n",
       "    <tr>\n",
       "      <th>22</th>\n",
       "      <td>23</td>\n",
       "      <td>50</td>\n",
       "      <td>15</td>\n",
       "    </tr>\n",
       "    <tr>\n",
       "      <th>23</th>\n",
       "      <td>24</td>\n",
       "      <td>46</td>\n",
       "      <td>13</td>\n",
       "    </tr>\n",
       "    <tr>\n",
       "      <th>24</th>\n",
       "      <td>25</td>\n",
       "      <td>44</td>\n",
       "      <td>10</td>\n",
       "    </tr>\n",
       "    <tr>\n",
       "      <th>25</th>\n",
       "      <td>26</td>\n",
       "      <td>52</td>\n",
       "      <td>15</td>\n",
       "    </tr>\n",
       "    <tr>\n",
       "      <th>26</th>\n",
       "      <td>27</td>\n",
       "      <td>54</td>\n",
       "      <td>15</td>\n",
       "    </tr>\n",
       "    <tr>\n",
       "      <th>27</th>\n",
       "      <td>28</td>\n",
       "      <td>58</td>\n",
       "      <td>16</td>\n",
       "    </tr>\n",
       "    <tr>\n",
       "      <th>28</th>\n",
       "      <td>29</td>\n",
       "      <td>56</td>\n",
       "      <td>13</td>\n",
       "    </tr>\n",
       "    <tr>\n",
       "      <th>29</th>\n",
       "      <td>30</td>\n",
       "      <td>63</td>\n",
       "      <td>16</td>\n",
       "    </tr>\n",
       "  </tbody>\n",
       "</table>\n",
       "</div>"
      ],
      "text/plain": [
       "    Month  Advertising Expenditure (X)  Sales (Y)\n",
       "0       1                           49         14\n",
       "1       2                           40          9\n",
       "2       3                           50         15\n",
       "3       4                           46         13\n",
       "4       5                           44         12\n",
       "5       6                           52         15\n",
       "6       7                           54         15\n",
       "7       8                           58         16\n",
       "8       9                           56         15\n",
       "9      10                           60         18\n",
       "10     11                           49         14\n",
       "11     12                           40          9\n",
       "12     13                           50         15\n",
       "13     14                           46         13\n",
       "14     15                           44         12\n",
       "15     16                           52         15\n",
       "16     17                           54         15\n",
       "17     18                           58         16\n",
       "18     19                           56         15\n",
       "19     20                           60         18\n",
       "20     21                           49         14\n",
       "21     22                           40          9\n",
       "22     23                           50         15\n",
       "23     24                           46         13\n",
       "24     25                           44         10\n",
       "25     26                           52         15\n",
       "26     27                           54         15\n",
       "27     28                           58         16\n",
       "28     29                           56         13\n",
       "29     30                           63         16"
      ]
     },
     "execution_count": 14,
     "metadata": {},
     "output_type": "execute_result"
    }
   ],
   "source": [
    "# Loading data\n",
    "import pandas as pd\n",
    "excel_file=r\"C:/Users/user/Music/Regression case studies/Regression1.xlsx\"\n",
    "df=pd.read_excel(excel_file)\n",
    "df"
   ]
  },
  {
   "cell_type": "code",
   "execution_count": 6,
   "metadata": {},
   "outputs": [
    {
     "name": "stdout",
     "output_type": "stream",
     "text": [
      "Data Shape\n",
      "\n",
      "\n",
      "(30, 3)\n",
      "\n",
      "\n",
      "Missing Values: \n",
      "Month                          0\n",
      "Advertising Expenditure (X)    0\n",
      "Sales (Y)                      0\n",
      "dtype: int64\n",
      "\n",
      "\n",
      "Data Types: \n",
      "Month                          int64\n",
      "Advertising Expenditure (X)    int64\n",
      "Sales (Y)                      int64\n",
      "dtype: object\n"
     ]
    }
   ],
   "source": [
    "# Creating function to print info on the dataset\n",
    "def inspect_data(df):\n",
    "    print('Data Shape')\n",
    "    print('\\n')\n",
    "    print(df.shape)\n",
    "    print('\\n')\n",
    "    print('Missing Values: ')\n",
    "    print(df.isnull().sum())\n",
    "    print('\\n')\n",
    "    print('Data Types: ')\n",
    "    print(df.dtypes)\n",
    "    \n",
    "inspect_data(df)"
   ]
  },
  {
   "cell_type": "code",
   "execution_count": 12,
   "metadata": {},
   "outputs": [
    {
     "name": "stdout",
     "output_type": "stream",
     "text": [
      "\n",
      "Missing values in each column:\n",
      "Advertising Expenditure (X)    0\n",
      "Sales (Y)                      0\n",
      "dtype: int64\n"
     ]
    }
   ],
   "source": [
    "missing_values = df.isnull().sum()\n",
    "print(\"\\nMissing values in each column:\")\n",
    "print(missing_values)"
   ]
  },
  {
   "cell_type": "code",
   "execution_count": 13,
   "metadata": {},
   "outputs": [
    {
     "name": "stdout",
     "output_type": "stream",
     "text": [
      "\n",
      "Duplicated rows in the dataframe:\n",
      "    Advertising Expenditure (X)  Sales (Y)\n",
      "10                           49         14\n",
      "11                           40          9\n",
      "12                           50         15\n",
      "13                           46         13\n",
      "14                           44         12\n",
      "15                           52         15\n",
      "16                           54         15\n",
      "17                           58         16\n",
      "18                           56         15\n",
      "19                           60         18\n",
      "20                           49         14\n",
      "21                           40          9\n",
      "22                           50         15\n",
      "23                           46         13\n",
      "25                           52         15\n",
      "26                           54         15\n",
      "27                           58         16\n"
     ]
    }
   ],
   "source": [
    "duplicates = df.duplicated()\n",
    "print(\"\\nDuplicated rows in the dataframe:\")\n",
    "print(df[duplicates])"
   ]
  },
  {
   "cell_type": "code",
   "execution_count": 35,
   "metadata": {},
   "outputs": [
    {
     "name": "stdout",
     "output_type": "stream",
     "text": [
      "Summary Statistics:\n",
      "          Month  Advertising Expenditure (X)  Sales (Y)\n",
      "count  5.000000                     5.000000   5.000000\n",
      "mean   3.000000                    45.800000  12.600000\n",
      "std    1.581139                     4.024922   2.302173\n",
      "min    1.000000                    40.000000   9.000000\n",
      "25%    2.000000                    44.000000  12.000000\n",
      "50%    3.000000                    46.000000  13.000000\n",
      "75%    4.000000                    49.000000  14.000000\n",
      "max    5.000000                    50.000000  15.000000\n"
     ]
    }
   ],
   "source": [
    "# Summary statistics\n",
    "summary_stats = df.describe()\n",
    "\n",
    "print(\"Summary Statistics:\")\n",
    "print(summary_stats)"
   ]
  },
  {
   "cell_type": "code",
   "execution_count": 36,
   "metadata": {},
   "outputs": [
    {
     "data": {
      "image/png": "[encoded data removed]",
      "text/plain": [
       "<Figure size 1200x600 with 2 Axes>"
      ]
     },
     "metadata": {},
     "output_type": "display_data"
    }
   ],
   "source": [
    "import matplotlib.pyplot as plt\n",
    "\n",
    "# Plotting the data\n",
    "plt.figure(figsize=(12, 6))\n",
    "\n",
    "# Advertising Expenditure\n",
    "plt.subplot(2, 1, 1)\n",
    "plt.plot(df['Month'], df['Advertising Expenditure (X)'], marker='o', color='blue')\n",
    "plt.title('Advertising Expenditure Over Months')\n",
    "plt.xlabel('Month')\n",
    "plt.ylabel('Advertising Expenditure')\n",
    "\n",
    "# Sales\n",
    "plt.subplot(2, 1, 2)\n",
    "plt.plot(df['Month'], df['Sales (Y)'], marker='o', color='green')\n",
    "plt.title('Sales Over Months')\n",
    "plt.xlabel('Month')\n",
    "plt.ylabel('Sales')\n",
    "\n",
    "plt.tight_layout()\n",
    "plt.show()\n"
   ]
  },
  {
   "cell_type": "code",
   "execution_count": 37,
   "metadata": {},
   "outputs": [
    {
     "data": {
      "image/png": "[encoded data removed]",
      "text/plain": [
       "<Figure size 1000x600 with 1 Axes>"
      ]
     },
     "metadata": {},
     "output_type": "display_data"
    }
   ],
   "source": [
    "import matplotlib.pyplot as plt\n",
    "\n",
    "# Bubble Plot (Scatter plot with varying bubble size)\n",
    "plt.figure(figsize=(10, 6))\n",
    "\n",
    "plt.scatter(df['Advertising Expenditure (X)'], df['Sales (Y)'], s=100, alpha=0.5, c='blue', label='Data Points')\n",
    "\n",
    "plt.title('Advertising Expenditure vs. Sales')\n",
    "plt.xlabel('Advertising Expenditure')\n",
    "plt.ylabel('Sales')\n",
    "plt.legend()\n",
    "plt.grid(True)\n",
    "plt.show()\n"
   ]
  },
  {
   "cell_type": "code",
   "execution_count": 15,
   "metadata": {},
   "outputs": [],
   "source": [
    "from sklearn.linear_model import LinearRegression # Importing Linear Regression Model\n",
    "from sklearn.model_selection import train_test_split # Importing Model Selection to split dataset into training and testing set\n",
    "from sklearn.metrics import r2_score # Importing R² score"
   ]
  },
  {
   "cell_type": "code",
   "execution_count": 18,
   "metadata": {},
   "outputs": [
    {
     "data": {
      "text/html": [
       "<div>\n",
       "<style scoped>\n",
       "    .dataframe tbody tr th:only-of-type {\n",
       "        vertical-align: middle;\n",
       "    }\n",
       "\n",
       "    .dataframe tbody tr th {\n",
       "        vertical-align: top;\n",
       "    }\n",
       "\n",
       "    .dataframe thead th {\n",
       "        text-align: right;\n",
       "    }\n",
       "</style>\n",
       "<table border=\"1\" class=\"dataframe\">\n",
       "  <thead>\n",
       "    <tr style=\"text-align: right;\">\n",
       "      <th></th>\n",
       "      <th>Month</th>\n",
       "      <th>Advertising Expenditure (X)</th>\n",
       "    </tr>\n",
       "  </thead>\n",
       "  <tbody>\n",
       "    <tr>\n",
       "      <th>0</th>\n",
       "      <td>1</td>\n",
       "      <td>49</td>\n",
       "    </tr>\n",
       "    <tr>\n",
       "      <th>1</th>\n",
       "      <td>2</td>\n",
       "      <td>40</td>\n",
       "    </tr>\n",
       "    <tr>\n",
       "      <th>2</th>\n",
       "      <td>3</td>\n",
       "      <td>50</td>\n",
       "    </tr>\n",
       "    <tr>\n",
       "      <th>3</th>\n",
       "      <td>4</td>\n",
       "      <td>46</td>\n",
       "    </tr>\n",
       "    <tr>\n",
       "      <th>4</th>\n",
       "      <td>5</td>\n",
       "      <td>44</td>\n",
       "    </tr>\n",
       "  </tbody>\n",
       "</table>\n",
       "</div>"
      ],
      "text/plain": [
       "   Month  Advertising Expenditure (X)\n",
       "0      1                           49\n",
       "1      2                           40\n",
       "2      3                           50\n",
       "3      4                           46\n",
       "4      5                           44"
      ]
     },
     "execution_count": 18,
     "metadata": {},
     "output_type": "execute_result"
    }
   ],
   "source": [
    "X = df.drop('Sales (Y)', axis = 1)# Selecting independent variables by removing 'median_house_value' column from dataframe\n",
    "X.head()"
   ]
  },
  {
   "cell_type": "code",
   "execution_count": 19,
   "metadata": {},
   "outputs": [
    {
     "data": {
      "text/plain": [
       "0     49\n",
       "1     40\n",
       "2     50\n",
       "3     46\n",
       "4     44\n",
       "5     52\n",
       "6     54\n",
       "7     58\n",
       "8     56\n",
       "9     60\n",
       "10    49\n",
       "11    40\n",
       "12    50\n",
       "13    46\n",
       "14    44\n",
       "15    52\n",
       "16    54\n",
       "17    58\n",
       "18    56\n",
       "19    60\n",
       "20    49\n",
       "21    40\n",
       "22    50\n",
       "23    46\n",
       "24    44\n",
       "25    52\n",
       "26    54\n",
       "27    58\n",
       "28    56\n",
       "29    63\n",
       "Name: Advertising Expenditure (X), dtype: int64"
      ]
     },
     "execution_count": 19,
     "metadata": {},
     "output_type": "execute_result"
    }
   ],
   "source": [
    "y = df['Advertising Expenditure (X)'] # Selecting dependent variable from the dataframe\n",
    "y"
   ]
  },
  {
   "cell_type": "code",
   "execution_count": 20,
   "metadata": {},
   "outputs": [],
   "source": [
    "X_train, X_test, y_train, y_test = train_test_split(X,y, # Splitting X and y instances for training and testing sets\n",
    "                                                   test_size = 0.3) # 30% of data will be used for testing the model"
   ]
  },
  {
   "cell_type": "code",
   "execution_count": 21,
   "metadata": {},
   "outputs": [
    {
     "name": "stdout",
     "output_type": "stream",
     "text": [
      "\n",
      "Model R² Score: 1.000\n"
     ]
    }
   ],
   "source": [
    "lr = LinearRegression() # Initializing the model\n",
    "lr.fit(X_train, y_train) # Fitting the model to the training data\n",
    "\n",
    "y_pred = lr.predict(X_test) # Predicting prices on the testing set\n",
    "score = r2_score(y_test, y_pred) # Measuring Model performance by comparing the predicted values to the actual values\n",
    "\n",
    "print(f'\\nModel R² Score: {score:.3f}') # Printing R² score"
   ]
  },
  {
   "cell_type": "code",
   "execution_count": 27,
   "metadata": {},
   "outputs": [
    {
     "name": "stdout",
     "output_type": "stream",
     "text": [
      "Coefficients: [-2.78336781e-17  1.00000000e+00]\n",
      "Intercept: -3.552713678800501e-14\n"
     ]
    }
   ],
   "source": [
    "# Printing regression coefficients and intercept\n",
    "print(f'Coefficients: {lr.coef_}')\n",
    "print(f'Intercept: {lr.intercept_}')"
   ]
  }
 ],
 "metadata": {
  "kernelspec": {
   "display_name": "Python 3",
   "language": "python",
   "name": "python3"
  },
  "language_info": {
   "codemirror_mode": {
    "name": "ipython",
    "version": 3
   },
   "file_extension": ".py",
   "mimetype": "text/x-python",
   "name": "python",
   "nbconvert_exporter": "python",
   "pygments_lexer": "ipython3",
   "version": "3.12.2"
  }
 },
 "nbformat": 4,
 "nbformat_minor": 2
}
